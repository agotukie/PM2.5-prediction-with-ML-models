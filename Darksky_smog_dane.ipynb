{
 "cells": [
  {
   "cell_type": "code",
   "execution_count": 1,
   "metadata": {},
   "outputs": [],
   "source": [
    "import pandas as pd\n",
    "import numpy as np\n",
    "import warnings\n",
    "warnings.filterwarnings('ignore')\n",
    "\n",
    "#show all columns and rows\n",
    "pd.options.display.max_rows = None\n",
    "pd.options.display.max_columns = None"
   ]
  },
  {
   "cell_type": "code",
   "execution_count": 2,
   "metadata": {},
   "outputs": [],
   "source": [
    "from datetime import datetime, timedelta"
   ]
  },
  {
   "cell_type": "code",
   "execution_count": 3,
   "metadata": {},
   "outputs": [],
   "source": [
    "import requests\n",
    "import json"
   ]
  },
  {
   "cell_type": "markdown",
   "metadata": {},
   "source": [
    "# weather - darksky data 2015-2019\n",
    "### data from API retrieved https://darksky.net/dev/docs#time-machine-request"
   ]
  },
  {
   "cell_type": "code",
   "execution_count": 4,
   "metadata": {},
   "outputs": [],
   "source": [
    "#key = # generate your own https://darksky.net/dev"
   ]
  },
  {
   "cell_type": "code",
   "execution_count": 273,
   "metadata": {},
   "outputs": [],
   "source": [
    "#date = datetime.strptime('2015-01-01', '%Y-%m-%d')\n",
    "#timest = int(datetime.timestamp(date))"
   ]
  },
  {
   "cell_type": "code",
   "execution_count": null,
   "metadata": {},
   "outputs": [],
   "source": [
    "#data_darksky = []\n",
    "#for i in range(365):\n",
    "#    darksky = json.loads(requests.get('https://api.darksky.net/forecast/{}/52.2193,21.0047,{}'.format(key, timest)).text)\n",
    "#    data_darksky.extend(darksky['hourly']['data'])\n",
    "#    timest += 24*60*60\n",
    "#    \n",
    "#df_darksky = pd.DataFrame(dane_darksky) "
   ]
  },
  {
   "cell_type": "code",
   "execution_count": 4,
   "metadata": {},
   "outputs": [
    {
     "data": {
      "text/plain": [
       "(43847, 19)"
      ]
     },
     "execution_count": 4,
     "metadata": {},
     "output_type": "execute_result"
    }
   ],
   "source": [
    "# ready data from a file\n",
    "d56789 = pd.read_csv('data/data_darksky_hourly_56789.csv',index_col = 0, header = 0)\n",
    "d56789.shape"
   ]
  },
  {
   "cell_type": "code",
   "execution_count": 5,
   "metadata": {},
   "outputs": [],
   "source": [
    "d56789['date'] = d56789['time'].apply(lambda x: datetime.fromtimestamp(x))"
   ]
  },
  {
   "cell_type": "code",
   "execution_count": 6,
   "metadata": {},
   "outputs": [
    {
     "data": {
      "text/plain": [
       "apparentTemperature           float64\n",
       "cloudCover                    float64\n",
       "dewPoint                      float64\n",
       "humidity                      float64\n",
       "icon                           object\n",
       "ozone                         float64\n",
       "precipAccumulation            float64\n",
       "precipIntensity               float64\n",
       "precipProbability             float64\n",
       "precipType                     object\n",
       "pressure                      float64\n",
       "summary                        object\n",
       "temperature                   float64\n",
       "time                            int64\n",
       "uvIndex                       float64\n",
       "visibility                    float64\n",
       "windBearing                   float64\n",
       "windGust                      float64\n",
       "windSpeed                     float64\n",
       "date                   datetime64[ns]\n",
       "dtype: object"
      ]
     },
     "execution_count": 6,
     "metadata": {},
     "output_type": "execute_result"
    }
   ],
   "source": [
    "d56789.dtypes"
   ]
  },
  {
   "cell_type": "markdown",
   "metadata": {},
   "source": [
    "# pollution PM2.5 - GIOŚ data 2015-2019\n",
    "### from archive http://powietrze.gios.gov.pl/pjp/archives"
   ]
  },
  {
   "cell_type": "code",
   "execution_count": 7,
   "metadata": {},
   "outputs": [],
   "source": [
    "df_pm25 = pd.read_csv('data/data_pm25_2015-9.csv',index_col = 0, header = 0)"
   ]
  },
  {
   "cell_type": "code",
   "execution_count": 8,
   "metadata": {},
   "outputs": [
    {
     "name": "stdout",
     "output_type": "stream",
     "text": [
      "pm25_nie           float64\n",
      "pm25_kon           float64\n",
      "pm25_wok           float64\n",
      "date        datetime64[ns]\n",
      "dtype: object\n"
     ]
    },
    {
     "data": {
      "text/html": [
       "<div>\n",
       "<style scoped>\n",
       "    .dataframe tbody tr th:only-of-type {\n",
       "        vertical-align: middle;\n",
       "    }\n",
       "\n",
       "    .dataframe tbody tr th {\n",
       "        vertical-align: top;\n",
       "    }\n",
       "\n",
       "    .dataframe thead th {\n",
       "        text-align: right;\n",
       "    }\n",
       "</style>\n",
       "<table border=\"1\" class=\"dataframe\">\n",
       "  <thead>\n",
       "    <tr style=\"text-align: right;\">\n",
       "      <th></th>\n",
       "      <th>pm25_nie</th>\n",
       "      <th>pm25_kon</th>\n",
       "      <th>pm25_wok</th>\n",
       "      <th>date</th>\n",
       "    </tr>\n",
       "  </thead>\n",
       "  <tbody>\n",
       "    <tr>\n",
       "      <th>8754</th>\n",
       "      <td>12.4</td>\n",
       "      <td>6.8</td>\n",
       "      <td>6.4</td>\n",
       "      <td>2019-12-31 20:00:00</td>\n",
       "    </tr>\n",
       "    <tr>\n",
       "      <th>8755</th>\n",
       "      <td>13.5</td>\n",
       "      <td>4.4</td>\n",
       "      <td>6.6</td>\n",
       "      <td>2019-12-31 21:00:00</td>\n",
       "    </tr>\n",
       "    <tr>\n",
       "      <th>8756</th>\n",
       "      <td>10.8</td>\n",
       "      <td>4.0</td>\n",
       "      <td>5.1</td>\n",
       "      <td>2019-12-31 22:00:00</td>\n",
       "    </tr>\n",
       "    <tr>\n",
       "      <th>8757</th>\n",
       "      <td>10.3</td>\n",
       "      <td>6.1</td>\n",
       "      <td>5.3</td>\n",
       "      <td>2019-12-31 23:00:00</td>\n",
       "    </tr>\n",
       "    <tr>\n",
       "      <th>8758</th>\n",
       "      <td>11.8</td>\n",
       "      <td>10.2</td>\n",
       "      <td>6.7</td>\n",
       "      <td>2020-01-01 00:00:00</td>\n",
       "    </tr>\n",
       "  </tbody>\n",
       "</table>\n",
       "</div>"
      ],
      "text/plain": [
       "      pm25_nie  pm25_kon  pm25_wok                date\n",
       "8754      12.4       6.8       6.4 2019-12-31 20:00:00\n",
       "8755      13.5       4.4       6.6 2019-12-31 21:00:00\n",
       "8756      10.8       4.0       5.1 2019-12-31 22:00:00\n",
       "8757      10.3       6.1       5.3 2019-12-31 23:00:00\n",
       "8758      11.8      10.2       6.7 2020-01-01 00:00:00"
      ]
     },
     "execution_count": 8,
     "metadata": {},
     "output_type": "execute_result"
    }
   ],
   "source": [
    "df_pm25['date']= pd.to_datetime(df_pm25['date'], format = '%Y-%m-%d %H:%M:%S')\n",
    "print(df_pm25.dtypes)\n",
    "df_pm25.tail()"
   ]
  },
  {
   "cell_type": "markdown",
   "metadata": {},
   "source": [
    "# list of dates 2015-2019"
   ]
  },
  {
   "cell_type": "code",
   "execution_count": 9,
   "metadata": {},
   "outputs": [],
   "source": [
    "list_date = []"
   ]
  },
  {
   "cell_type": "code",
   "execution_count": 10,
   "metadata": {},
   "outputs": [],
   "source": [
    "def daterange(date1, date2):\n",
    "    for n in range(int ((date2 - date1).days)*24+24):\n",
    "        yield date1 + timedelta(n/24)"
   ]
  },
  {
   "cell_type": "code",
   "execution_count": 11,
   "metadata": {},
   "outputs": [],
   "source": [
    "start_dt = datetime(2015, 1, 1)\n",
    "end_dt = datetime(2019, 12, 31)\n",
    "\n",
    "for dt in daterange(start_dt, end_dt):\n",
    "    list_date.append(dt.strftime(\"%Y-%m-%d %H:%M:%S\"))"
   ]
  },
  {
   "cell_type": "code",
   "execution_count": 12,
   "metadata": {},
   "outputs": [
    {
     "data": {
      "text/plain": [
       "(43824, '2015-01-01 00:00:00', '2019-12-31 23:00:00')"
      ]
     },
     "execution_count": 12,
     "metadata": {},
     "output_type": "execute_result"
    }
   ],
   "source": [
    "len(list_date), list_date[0], list_date[-1]"
   ]
  },
  {
   "cell_type": "code",
   "execution_count": 13,
   "metadata": {},
   "outputs": [
    {
     "name": "stdout",
     "output_type": "stream",
     "text": [
      "date    datetime64[ns]\n",
      "dtype: object\n"
     ]
    },
    {
     "data": {
      "text/html": [
       "<div>\n",
       "<style scoped>\n",
       "    .dataframe tbody tr th:only-of-type {\n",
       "        vertical-align: middle;\n",
       "    }\n",
       "\n",
       "    .dataframe tbody tr th {\n",
       "        vertical-align: top;\n",
       "    }\n",
       "\n",
       "    .dataframe thead th {\n",
       "        text-align: right;\n",
       "    }\n",
       "</style>\n",
       "<table border=\"1\" class=\"dataframe\">\n",
       "  <thead>\n",
       "    <tr style=\"text-align: right;\">\n",
       "      <th></th>\n",
       "      <th>date</th>\n",
       "    </tr>\n",
       "  </thead>\n",
       "  <tbody>\n",
       "    <tr>\n",
       "      <th>0</th>\n",
       "      <td>2015-01-01 00:00:00</td>\n",
       "    </tr>\n",
       "    <tr>\n",
       "      <th>1</th>\n",
       "      <td>2015-01-01 01:00:00</td>\n",
       "    </tr>\n",
       "    <tr>\n",
       "      <th>2</th>\n",
       "      <td>2015-01-01 02:00:00</td>\n",
       "    </tr>\n",
       "    <tr>\n",
       "      <th>3</th>\n",
       "      <td>2015-01-01 03:00:00</td>\n",
       "    </tr>\n",
       "    <tr>\n",
       "      <th>4</th>\n",
       "      <td>2015-01-01 04:00:00</td>\n",
       "    </tr>\n",
       "  </tbody>\n",
       "</table>\n",
       "</div>"
      ],
      "text/plain": [
       "                 date\n",
       "0 2015-01-01 00:00:00\n",
       "1 2015-01-01 01:00:00\n",
       "2 2015-01-01 02:00:00\n",
       "3 2015-01-01 03:00:00\n",
       "4 2015-01-01 04:00:00"
      ]
     },
     "execution_count": 13,
     "metadata": {},
     "output_type": "execute_result"
    }
   ],
   "source": [
    "df = pd.DataFrame(data = {'date': list_date})\n",
    "df['date'] = pd.to_datetime(df['date'], format = '%Y-%m-%d %H:%M:%S')\n",
    "print(df.dtypes)\n",
    "df.head()"
   ]
  },
  {
   "cell_type": "markdown",
   "metadata": {},
   "source": [
    "# merge all data"
   ]
  },
  {
   "cell_type": "code",
   "execution_count": 14,
   "metadata": {},
   "outputs": [
    {
     "data": {
      "text/html": [
       "<div>\n",
       "<style scoped>\n",
       "    .dataframe tbody tr th:only-of-type {\n",
       "        vertical-align: middle;\n",
       "    }\n",
       "\n",
       "    .dataframe tbody tr th {\n",
       "        vertical-align: top;\n",
       "    }\n",
       "\n",
       "    .dataframe thead th {\n",
       "        text-align: right;\n",
       "    }\n",
       "</style>\n",
       "<table border=\"1\" class=\"dataframe\">\n",
       "  <thead>\n",
       "    <tr style=\"text-align: right;\">\n",
       "      <th></th>\n",
       "      <th>date</th>\n",
       "      <th>pm25_nie</th>\n",
       "      <th>pm25_kon</th>\n",
       "      <th>pm25_wok</th>\n",
       "      <th>apparentTemperature</th>\n",
       "      <th>cloudCover</th>\n",
       "      <th>dewPoint</th>\n",
       "      <th>humidity</th>\n",
       "      <th>icon</th>\n",
       "      <th>ozone</th>\n",
       "      <th>precipAccumulation</th>\n",
       "      <th>precipIntensity</th>\n",
       "      <th>precipProbability</th>\n",
       "      <th>precipType</th>\n",
       "      <th>pressure</th>\n",
       "      <th>summary</th>\n",
       "      <th>temperature</th>\n",
       "      <th>time</th>\n",
       "      <th>uvIndex</th>\n",
       "      <th>visibility</th>\n",
       "      <th>windBearing</th>\n",
       "      <th>windGust</th>\n",
       "      <th>windSpeed</th>\n",
       "    </tr>\n",
       "  </thead>\n",
       "  <tbody>\n",
       "    <tr>\n",
       "      <th>43848</th>\n",
       "      <td>2019-12-31 19:00:00</td>\n",
       "      <td>11.6</td>\n",
       "      <td>6.9</td>\n",
       "      <td>7.0</td>\n",
       "      <td>34.07</td>\n",
       "      <td>0.82</td>\n",
       "      <td>34.28</td>\n",
       "      <td>0.75</td>\n",
       "      <td>partly-cloudy-night</td>\n",
       "      <td>335.4</td>\n",
       "      <td>NaN</td>\n",
       "      <td>0.0</td>\n",
       "      <td>0.0</td>\n",
       "      <td>NaN</td>\n",
       "      <td>1022.5</td>\n",
       "      <td>Mostly Cloudy</td>\n",
       "      <td>41.51</td>\n",
       "      <td>1.577815e+09</td>\n",
       "      <td>0.0</td>\n",
       "      <td>10.0</td>\n",
       "      <td>307.0</td>\n",
       "      <td>28.66</td>\n",
       "      <td>14.02</td>\n",
       "    </tr>\n",
       "    <tr>\n",
       "      <th>43849</th>\n",
       "      <td>2019-12-31 20:00:00</td>\n",
       "      <td>12.4</td>\n",
       "      <td>6.8</td>\n",
       "      <td>6.4</td>\n",
       "      <td>33.26</td>\n",
       "      <td>0.59</td>\n",
       "      <td>34.00</td>\n",
       "      <td>0.76</td>\n",
       "      <td>partly-cloudy-night</td>\n",
       "      <td>336.1</td>\n",
       "      <td>NaN</td>\n",
       "      <td>0.0</td>\n",
       "      <td>0.0</td>\n",
       "      <td>NaN</td>\n",
       "      <td>1023.3</td>\n",
       "      <td>Partly Cloudy</td>\n",
       "      <td>40.97</td>\n",
       "      <td>1.577819e+09</td>\n",
       "      <td>0.0</td>\n",
       "      <td>10.0</td>\n",
       "      <td>307.0</td>\n",
       "      <td>27.30</td>\n",
       "      <td>14.39</td>\n",
       "    </tr>\n",
       "    <tr>\n",
       "      <th>43850</th>\n",
       "      <td>2019-12-31 21:00:00</td>\n",
       "      <td>13.5</td>\n",
       "      <td>4.4</td>\n",
       "      <td>6.6</td>\n",
       "      <td>32.30</td>\n",
       "      <td>0.29</td>\n",
       "      <td>33.20</td>\n",
       "      <td>0.76</td>\n",
       "      <td>clear-night</td>\n",
       "      <td>337.8</td>\n",
       "      <td>NaN</td>\n",
       "      <td>0.0</td>\n",
       "      <td>0.0</td>\n",
       "      <td>NaN</td>\n",
       "      <td>1024.3</td>\n",
       "      <td>Clear</td>\n",
       "      <td>40.22</td>\n",
       "      <td>1.577822e+09</td>\n",
       "      <td>0.0</td>\n",
       "      <td>10.0</td>\n",
       "      <td>305.0</td>\n",
       "      <td>26.36</td>\n",
       "      <td>14.43</td>\n",
       "    </tr>\n",
       "    <tr>\n",
       "      <th>43851</th>\n",
       "      <td>2019-12-31 22:00:00</td>\n",
       "      <td>10.8</td>\n",
       "      <td>4.0</td>\n",
       "      <td>5.1</td>\n",
       "      <td>31.28</td>\n",
       "      <td>0.05</td>\n",
       "      <td>32.37</td>\n",
       "      <td>0.76</td>\n",
       "      <td>clear-night</td>\n",
       "      <td>338.0</td>\n",
       "      <td>NaN</td>\n",
       "      <td>0.0</td>\n",
       "      <td>0.0</td>\n",
       "      <td>NaN</td>\n",
       "      <td>1025.1</td>\n",
       "      <td>Clear</td>\n",
       "      <td>39.35</td>\n",
       "      <td>1.577826e+09</td>\n",
       "      <td>0.0</td>\n",
       "      <td>10.0</td>\n",
       "      <td>303.0</td>\n",
       "      <td>25.92</td>\n",
       "      <td>14.14</td>\n",
       "    </tr>\n",
       "    <tr>\n",
       "      <th>43852</th>\n",
       "      <td>2019-12-31 23:00:00</td>\n",
       "      <td>10.3</td>\n",
       "      <td>6.1</td>\n",
       "      <td>5.3</td>\n",
       "      <td>30.33</td>\n",
       "      <td>0.02</td>\n",
       "      <td>31.74</td>\n",
       "      <td>0.76</td>\n",
       "      <td>clear-night</td>\n",
       "      <td>334.5</td>\n",
       "      <td>NaN</td>\n",
       "      <td>0.0</td>\n",
       "      <td>0.0</td>\n",
       "      <td>NaN</td>\n",
       "      <td>1025.7</td>\n",
       "      <td>Clear</td>\n",
       "      <td>38.58</td>\n",
       "      <td>1.577830e+09</td>\n",
       "      <td>0.0</td>\n",
       "      <td>10.0</td>\n",
       "      <td>303.0</td>\n",
       "      <td>26.24</td>\n",
       "      <td>14.04</td>\n",
       "    </tr>\n",
       "  </tbody>\n",
       "</table>\n",
       "</div>"
      ],
      "text/plain": [
       "                     date  pm25_nie  pm25_kon  pm25_wok  apparentTemperature  \\\n",
       "43848 2019-12-31 19:00:00      11.6       6.9       7.0                34.07   \n",
       "43849 2019-12-31 20:00:00      12.4       6.8       6.4                33.26   \n",
       "43850 2019-12-31 21:00:00      13.5       4.4       6.6                32.30   \n",
       "43851 2019-12-31 22:00:00      10.8       4.0       5.1                31.28   \n",
       "43852 2019-12-31 23:00:00      10.3       6.1       5.3                30.33   \n",
       "\n",
       "       cloudCover  dewPoint  humidity                 icon  ozone  \\\n",
       "43848        0.82     34.28      0.75  partly-cloudy-night  335.4   \n",
       "43849        0.59     34.00      0.76  partly-cloudy-night  336.1   \n",
       "43850        0.29     33.20      0.76          clear-night  337.8   \n",
       "43851        0.05     32.37      0.76          clear-night  338.0   \n",
       "43852        0.02     31.74      0.76          clear-night  334.5   \n",
       "\n",
       "       precipAccumulation  precipIntensity  precipProbability precipType  \\\n",
       "43848                 NaN              0.0                0.0        NaN   \n",
       "43849                 NaN              0.0                0.0        NaN   \n",
       "43850                 NaN              0.0                0.0        NaN   \n",
       "43851                 NaN              0.0                0.0        NaN   \n",
       "43852                 NaN              0.0                0.0        NaN   \n",
       "\n",
       "       pressure        summary  temperature          time  uvIndex  \\\n",
       "43848    1022.5  Mostly Cloudy        41.51  1.577815e+09      0.0   \n",
       "43849    1023.3  Partly Cloudy        40.97  1.577819e+09      0.0   \n",
       "43850    1024.3          Clear        40.22  1.577822e+09      0.0   \n",
       "43851    1025.1          Clear        39.35  1.577826e+09      0.0   \n",
       "43852    1025.7          Clear        38.58  1.577830e+09      0.0   \n",
       "\n",
       "       visibility  windBearing  windGust  windSpeed  \n",
       "43848        10.0        307.0     28.66      14.02  \n",
       "43849        10.0        307.0     27.30      14.39  \n",
       "43850        10.0        305.0     26.36      14.43  \n",
       "43851        10.0        303.0     25.92      14.14  \n",
       "43852        10.0        303.0     26.24      14.04  "
      ]
     },
     "execution_count": 14,
     "metadata": {},
     "output_type": "execute_result"
    }
   ],
   "source": [
    "df_all = pd.merge( df, df_pm25, on=['date'], how='left')\n",
    "df_all = pd.merge( df_all, d56789, on=['date'], how='left')\n",
    "df_all.tail()"
   ]
  },
  {
   "cell_type": "markdown",
   "metadata": {},
   "source": [
    "# filling missing data"
   ]
  },
  {
   "cell_type": "code",
   "execution_count": 15,
   "metadata": {},
   "outputs": [
    {
     "data": {
      "text/plain": [
       "date                       0\n",
       "pm25_nie                 568\n",
       "pm25_kon                9860\n",
       "pm25_wok                1290\n",
       "apparentTemperature        6\n",
       "cloudCover              1417\n",
       "dewPoint                   6\n",
       "humidity                   6\n",
       "icon                    1634\n",
       "ozone                  30340\n",
       "precipAccumulation     43130\n",
       "precipIntensity          681\n",
       "precipProbability        681\n",
       "precipType             38411\n",
       "pressure                 933\n",
       "summary                 1634\n",
       "temperature                6\n",
       "time                       6\n",
       "uvIndex                  583\n",
       "visibility                13\n",
       "windBearing              291\n",
       "windGust               10583\n",
       "windSpeed                  9\n",
       "dtype: int64"
      ]
     },
     "execution_count": 15,
     "metadata": {},
     "output_type": "execute_result"
    }
   ],
   "source": [
    "df_all.isnull().sum()"
   ]
  },
  {
   "cell_type": "code",
   "execution_count": 16,
   "metadata": {},
   "outputs": [
    {
     "data": {
      "text/plain": [
       "Index(['date', 'pm25_nie', 'pm25_kon', 'pm25_wok', 'apparentTemperature',\n",
       "       'cloudCover', 'dewPoint', 'humidity', 'icon', 'ozone',\n",
       "       'precipAccumulation', 'precipIntensity', 'precipProbability',\n",
       "       'precipType', 'pressure', 'summary', 'temperature', 'time', 'uvIndex',\n",
       "       'visibility', 'windBearing', 'windGust', 'windSpeed'],\n",
       "      dtype='object')"
      ]
     },
     "execution_count": 16,
     "metadata": {},
     "output_type": "execute_result"
    }
   ],
   "source": [
    "df_all.columns"
   ]
  },
  {
   "cell_type": "code",
   "execution_count": 17,
   "metadata": {},
   "outputs": [],
   "source": [
    "# interpolate\n",
    "\n",
    "cols=[ 'pm25_nie', 'pm25_kon', 'pm25_wok',\n",
    "       'apparentTemperature', 'cloudCover', 'dewPoint',\n",
    "       'humidity',  'precipType', 'pressure', 'temperature',\n",
    "       'time', 'uvIndex', 'visibility', 'windBearing',\n",
    "       'windSpeed']\n",
    "\n",
    "for col in cols:\n",
    "    df_all[col] = df_all[col].interpolate(limit_direction='both')"
   ]
  },
  {
   "cell_type": "code",
   "execution_count": 18,
   "metadata": {},
   "outputs": [],
   "source": [
    "# fill with 0\n",
    "\n",
    "cols=['precipAccumulation','precipIntensity','precipProbability']\n",
    "\n",
    "for col in cols:\n",
    "    df_all[col] = df_all[col].fillna(0)"
   ]
  },
  {
   "cell_type": "code",
   "execution_count": 19,
   "metadata": {},
   "outputs": [],
   "source": [
    "# value from another column\n",
    "\n",
    "df_all['windGust'] = df_all['windGust'].fillna(df_all['windSpeed'])"
   ]
  },
  {
   "cell_type": "code",
   "execution_count": null,
   "metadata": {},
   "outputs": [],
   "source": [
    "#dict_fac_summary = pd.factorize(d789['summary'])\n",
    "#d789['fac_summary'] =pd.factorize(d789['summary'])[0]\n",
    "\n",
    "#dict_fac_precipType = pd.factorize(d789['precipType'])\n",
    "#d789['fac_precipType'] =pd.factorize(d789['precipType'])[0]"
   ]
  },
  {
   "cell_type": "code",
   "execution_count": 20,
   "metadata": {},
   "outputs": [
    {
     "data": {
      "text/plain": [
       "date                       0\n",
       "pm25_nie                   0\n",
       "pm25_kon                   0\n",
       "pm25_wok                   0\n",
       "apparentTemperature        0\n",
       "cloudCover                 0\n",
       "dewPoint                   0\n",
       "humidity                   0\n",
       "icon                    1634\n",
       "ozone                  30340\n",
       "precipAccumulation         0\n",
       "precipIntensity            0\n",
       "precipProbability          0\n",
       "precipType             38411\n",
       "pressure                   0\n",
       "summary                 1634\n",
       "temperature                0\n",
       "time                       0\n",
       "uvIndex                    0\n",
       "visibility                 0\n",
       "windBearing                0\n",
       "windGust                   0\n",
       "windSpeed                  0\n",
       "dtype: int64"
      ]
     },
     "execution_count": 20,
     "metadata": {},
     "output_type": "execute_result"
    }
   ],
   "source": [
    "df_all.isnull().sum()"
   ]
  },
  {
   "cell_type": "code",
   "execution_count": 21,
   "metadata": {},
   "outputs": [
    {
     "data": {
      "text/plain": [
       "date                   datetime64[ns]\n",
       "pm25_nie                      float64\n",
       "pm25_kon                      float64\n",
       "pm25_wok                      float64\n",
       "apparentTemperature           float64\n",
       "cloudCover                    float64\n",
       "dewPoint                      float64\n",
       "humidity                      float64\n",
       "icon                           object\n",
       "ozone                         float64\n",
       "precipAccumulation            float64\n",
       "precipIntensity               float64\n",
       "precipProbability             float64\n",
       "precipType                     object\n",
       "pressure                      float64\n",
       "summary                        object\n",
       "temperature                   float64\n",
       "time                          float64\n",
       "uvIndex                       float64\n",
       "visibility                    float64\n",
       "windBearing                   float64\n",
       "windGust                      float64\n",
       "windSpeed                     float64\n",
       "dtype: object"
      ]
     },
     "execution_count": 21,
     "metadata": {},
     "output_type": "execute_result"
    }
   ],
   "source": [
    "df_all.dtypes"
   ]
  },
  {
   "cell_type": "markdown",
   "metadata": {},
   "source": [
    "# additional variables"
   ]
  },
  {
   "cell_type": "markdown",
   "metadata": {},
   "source": [
    "### time"
   ]
  },
  {
   "cell_type": "code",
   "execution_count": 22,
   "metadata": {},
   "outputs": [
    {
     "data": {
      "text/html": [
       "<div>\n",
       "<style scoped>\n",
       "    .dataframe tbody tr th:only-of-type {\n",
       "        vertical-align: middle;\n",
       "    }\n",
       "\n",
       "    .dataframe tbody tr th {\n",
       "        vertical-align: top;\n",
       "    }\n",
       "\n",
       "    .dataframe thead th {\n",
       "        text-align: right;\n",
       "    }\n",
       "</style>\n",
       "<table border=\"1\" class=\"dataframe\">\n",
       "  <thead>\n",
       "    <tr style=\"text-align: right;\">\n",
       "      <th></th>\n",
       "      <th>date</th>\n",
       "      <th>pm25_nie</th>\n",
       "      <th>pm25_kon</th>\n",
       "      <th>pm25_wok</th>\n",
       "      <th>apparentTemperature</th>\n",
       "      <th>cloudCover</th>\n",
       "      <th>dewPoint</th>\n",
       "      <th>humidity</th>\n",
       "      <th>icon</th>\n",
       "      <th>ozone</th>\n",
       "      <th>precipAccumulation</th>\n",
       "      <th>precipIntensity</th>\n",
       "      <th>precipProbability</th>\n",
       "      <th>precipType</th>\n",
       "      <th>pressure</th>\n",
       "      <th>summary</th>\n",
       "      <th>temperature</th>\n",
       "      <th>time</th>\n",
       "      <th>uvIndex</th>\n",
       "      <th>visibility</th>\n",
       "      <th>windBearing</th>\n",
       "      <th>windGust</th>\n",
       "      <th>windSpeed</th>\n",
       "      <th>year</th>\n",
       "      <th>month</th>\n",
       "      <th>day</th>\n",
       "      <th>hour</th>\n",
       "      <th>day_of_week</th>\n",
       "      <th>no_of_week</th>\n",
       "    </tr>\n",
       "  </thead>\n",
       "  <tbody>\n",
       "    <tr>\n",
       "      <th>0</th>\n",
       "      <td>2015-01-01 00:00:00</td>\n",
       "      <td>51.5034</td>\n",
       "      <td>78.085</td>\n",
       "      <td>51.320000</td>\n",
       "      <td>32.93</td>\n",
       "      <td>1.0</td>\n",
       "      <td>29.56</td>\n",
       "      <td>0.87</td>\n",
       "      <td>NaN</td>\n",
       "      <td>NaN</td>\n",
       "      <td>0.0</td>\n",
       "      <td>0.0</td>\n",
       "      <td>0.0</td>\n",
       "      <td>NaN</td>\n",
       "      <td>1027.7</td>\n",
       "      <td>NaN</td>\n",
       "      <td>32.93</td>\n",
       "      <td>1.420067e+09</td>\n",
       "      <td>0.0</td>\n",
       "      <td>2.733</td>\n",
       "      <td>260.0</td>\n",
       "      <td>6.93</td>\n",
       "      <td>6.93</td>\n",
       "      <td>2015</td>\n",
       "      <td>1</td>\n",
       "      <td>1</td>\n",
       "      <td>0</td>\n",
       "      <td>4</td>\n",
       "      <td>1</td>\n",
       "    </tr>\n",
       "    <tr>\n",
       "      <th>1</th>\n",
       "      <td>2015-01-01 01:00:00</td>\n",
       "      <td>71.8204</td>\n",
       "      <td>78.085</td>\n",
       "      <td>68.982316</td>\n",
       "      <td>33.90</td>\n",
       "      <td>1.0</td>\n",
       "      <td>31.11</td>\n",
       "      <td>0.89</td>\n",
       "      <td>NaN</td>\n",
       "      <td>NaN</td>\n",
       "      <td>0.0</td>\n",
       "      <td>0.0</td>\n",
       "      <td>0.0</td>\n",
       "      <td>NaN</td>\n",
       "      <td>1027.7</td>\n",
       "      <td>NaN</td>\n",
       "      <td>33.90</td>\n",
       "      <td>1.420070e+09</td>\n",
       "      <td>0.0</td>\n",
       "      <td>2.733</td>\n",
       "      <td>260.0</td>\n",
       "      <td>6.93</td>\n",
       "      <td>6.93</td>\n",
       "      <td>2015</td>\n",
       "      <td>1</td>\n",
       "      <td>1</td>\n",
       "      <td>1</td>\n",
       "      <td>4</td>\n",
       "      <td>1</td>\n",
       "    </tr>\n",
       "    <tr>\n",
       "      <th>2</th>\n",
       "      <td>2015-01-01 02:00:00</td>\n",
       "      <td>42.6996</td>\n",
       "      <td>64.460</td>\n",
       "      <td>48.707108</td>\n",
       "      <td>27.73</td>\n",
       "      <td>1.0</td>\n",
       "      <td>31.59</td>\n",
       "      <td>0.91</td>\n",
       "      <td>cloudy</td>\n",
       "      <td>NaN</td>\n",
       "      <td>0.0</td>\n",
       "      <td>0.0</td>\n",
       "      <td>0.0</td>\n",
       "      <td>NaN</td>\n",
       "      <td>1027.7</td>\n",
       "      <td>Overcast</td>\n",
       "      <td>33.81</td>\n",
       "      <td>1.420074e+09</td>\n",
       "      <td>0.0</td>\n",
       "      <td>2.733</td>\n",
       "      <td>260.0</td>\n",
       "      <td>6.93</td>\n",
       "      <td>6.93</td>\n",
       "      <td>2015</td>\n",
       "      <td>1</td>\n",
       "      <td>1</td>\n",
       "      <td>2</td>\n",
       "      <td>4</td>\n",
       "      <td>1</td>\n",
       "    </tr>\n",
       "    <tr>\n",
       "      <th>3</th>\n",
       "      <td>2015-01-01 03:00:00</td>\n",
       "      <td>38.2824</td>\n",
       "      <td>36.210</td>\n",
       "      <td>37.986883</td>\n",
       "      <td>27.73</td>\n",
       "      <td>1.0</td>\n",
       "      <td>32.76</td>\n",
       "      <td>0.96</td>\n",
       "      <td>fog</td>\n",
       "      <td>NaN</td>\n",
       "      <td>0.0</td>\n",
       "      <td>0.0</td>\n",
       "      <td>0.0</td>\n",
       "      <td>NaN</td>\n",
       "      <td>1027.7</td>\n",
       "      <td>Foggy</td>\n",
       "      <td>33.81</td>\n",
       "      <td>1.420078e+09</td>\n",
       "      <td>0.0</td>\n",
       "      <td>1.244</td>\n",
       "      <td>251.0</td>\n",
       "      <td>6.93</td>\n",
       "      <td>6.93</td>\n",
       "      <td>2015</td>\n",
       "      <td>1</td>\n",
       "      <td>1</td>\n",
       "      <td>3</td>\n",
       "      <td>4</td>\n",
       "      <td>1</td>\n",
       "    </tr>\n",
       "    <tr>\n",
       "      <th>4</th>\n",
       "      <td>2015-01-01 04:00:00</td>\n",
       "      <td>35.4194</td>\n",
       "      <td>29.585</td>\n",
       "      <td>33.675489</td>\n",
       "      <td>26.41</td>\n",
       "      <td>1.0</td>\n",
       "      <td>32.89</td>\n",
       "      <td>0.97</td>\n",
       "      <td>fog</td>\n",
       "      <td>NaN</td>\n",
       "      <td>0.0</td>\n",
       "      <td>0.0</td>\n",
       "      <td>0.0</td>\n",
       "      <td>NaN</td>\n",
       "      <td>1027.7</td>\n",
       "      <td>Foggy</td>\n",
       "      <td>33.73</td>\n",
       "      <td>1.420081e+09</td>\n",
       "      <td>0.0</td>\n",
       "      <td>1.152</td>\n",
       "      <td>251.0</td>\n",
       "      <td>8.96</td>\n",
       "      <td>8.96</td>\n",
       "      <td>2015</td>\n",
       "      <td>1</td>\n",
       "      <td>1</td>\n",
       "      <td>4</td>\n",
       "      <td>4</td>\n",
       "      <td>1</td>\n",
       "    </tr>\n",
       "  </tbody>\n",
       "</table>\n",
       "</div>"
      ],
      "text/plain": [
       "                 date  pm25_nie  pm25_kon   pm25_wok  apparentTemperature  \\\n",
       "0 2015-01-01 00:00:00   51.5034    78.085  51.320000                32.93   \n",
       "1 2015-01-01 01:00:00   71.8204    78.085  68.982316                33.90   \n",
       "2 2015-01-01 02:00:00   42.6996    64.460  48.707108                27.73   \n",
       "3 2015-01-01 03:00:00   38.2824    36.210  37.986883                27.73   \n",
       "4 2015-01-01 04:00:00   35.4194    29.585  33.675489                26.41   \n",
       "\n",
       "   cloudCover  dewPoint  humidity    icon  ozone  precipAccumulation  \\\n",
       "0         1.0     29.56      0.87     NaN    NaN                 0.0   \n",
       "1         1.0     31.11      0.89     NaN    NaN                 0.0   \n",
       "2         1.0     31.59      0.91  cloudy    NaN                 0.0   \n",
       "3         1.0     32.76      0.96     fog    NaN                 0.0   \n",
       "4         1.0     32.89      0.97     fog    NaN                 0.0   \n",
       "\n",
       "   precipIntensity  precipProbability precipType  pressure   summary  \\\n",
       "0              0.0                0.0        NaN    1027.7       NaN   \n",
       "1              0.0                0.0        NaN    1027.7       NaN   \n",
       "2              0.0                0.0        NaN    1027.7  Overcast   \n",
       "3              0.0                0.0        NaN    1027.7     Foggy   \n",
       "4              0.0                0.0        NaN    1027.7     Foggy   \n",
       "\n",
       "   temperature          time  uvIndex  visibility  windBearing  windGust  \\\n",
       "0        32.93  1.420067e+09      0.0       2.733        260.0      6.93   \n",
       "1        33.90  1.420070e+09      0.0       2.733        260.0      6.93   \n",
       "2        33.81  1.420074e+09      0.0       2.733        260.0      6.93   \n",
       "3        33.81  1.420078e+09      0.0       1.244        251.0      6.93   \n",
       "4        33.73  1.420081e+09      0.0       1.152        251.0      8.96   \n",
       "\n",
       "   windSpeed  year  month  day  hour  day_of_week  no_of_week  \n",
       "0       6.93  2015      1    1     0            4           1  \n",
       "1       6.93  2015      1    1     1            4           1  \n",
       "2       6.93  2015      1    1     2            4           1  \n",
       "3       6.93  2015      1    1     3            4           1  \n",
       "4       8.96  2015      1    1     4            4           1  "
      ]
     },
     "execution_count": 22,
     "metadata": {},
     "output_type": "execute_result"
    }
   ],
   "source": [
    "df_all['year'] = df_all['date'].apply(lambda x: x.year)\n",
    "df_all['month'] = df_all['date'].apply(lambda x: x.month)\n",
    "df_all['day'] = df_all['date'].apply(lambda x: x.day)\n",
    "df_all['hour'] = df_all['date'].apply(lambda x: x.hour)\n",
    "df_all['day_of_week'] = df_all['date'].apply(lambda x: x.isocalendar()[2])\n",
    "df_all['no_of_week'] = df_all['date'].apply(lambda x: x.isocalendar()[1])\n",
    "\n",
    "df_all.head()       "
   ]
  },
  {
   "cell_type": "markdown",
   "metadata": {},
   "source": [
    "### winter break"
   ]
  },
  {
   "cell_type": "code",
   "execution_count": 23,
   "metadata": {},
   "outputs": [],
   "source": [
    "df_all['winter_break'] = 0"
   ]
  },
  {
   "cell_type": "code",
   "execution_count": 24,
   "metadata": {},
   "outputs": [],
   "source": [
    "mask = (df_all['date'] >='2015-01-19') & (df_all['date'] <='2015-02-01')\n",
    "df_all['winter_break'][mask] = 1"
   ]
  },
  {
   "cell_type": "code",
   "execution_count": 25,
   "metadata": {},
   "outputs": [],
   "source": [
    "mask = (df_all['date'] >='2016-02-01') & (df_all['date'] <='2016-02-12')\n",
    "df_all['winter_break'][mask] = 1"
   ]
  },
  {
   "cell_type": "code",
   "execution_count": 26,
   "metadata": {},
   "outputs": [],
   "source": [
    "mask = (df_all['date'] >='2017-02-13') & (df_all['date'] <='2017-02-26')\n",
    "df_all['winter_break'][mask] = 1"
   ]
  },
  {
   "cell_type": "code",
   "execution_count": 27,
   "metadata": {},
   "outputs": [],
   "source": [
    "mask = (df_all['date'] >='2018-01-15') & (df_all['date'] <='2018-01-28')\n",
    "df_all['winter_break'][mask] = 1"
   ]
  },
  {
   "cell_type": "code",
   "execution_count": 28,
   "metadata": {},
   "outputs": [],
   "source": [
    "mask = (df_all['date'] >='2019-01-28') & (df_all['date'] <='2019-02-10')\n",
    "df_all['winter_break'][mask] = 1"
   ]
  },
  {
   "cell_type": "markdown",
   "metadata": {},
   "source": [
    "# saving data for futher analysis"
   ]
  },
  {
   "cell_type": "code",
   "execution_count": 29,
   "metadata": {},
   "outputs": [],
   "source": [
    "df_all.to_csv('data/data_pm25_plus_darksky.csv')"
   ]
  }
 ],
 "metadata": {
  "kernelspec": {
   "display_name": "Python 3",
   "language": "python",
   "name": "python3"
  },
  "language_info": {
   "codemirror_mode": {
    "name": "ipython",
    "version": 3
   },
   "file_extension": ".py",
   "mimetype": "text/x-python",
   "name": "python",
   "nbconvert_exporter": "python",
   "pygments_lexer": "ipython3",
   "version": "3.7.3"
  }
 },
 "nbformat": 4,
 "nbformat_minor": 2
}
