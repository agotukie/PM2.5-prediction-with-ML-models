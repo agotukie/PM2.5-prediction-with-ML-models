{
 "cells": [
  {
   "cell_type": "code",
   "execution_count": 1,
   "metadata": {},
   "outputs": [],
   "source": [
    "import pandas as pd\n",
    "import numpy as np\n",
    "import warnings\n",
    "warnings.filterwarnings('ignore')\n",
    "\n",
    "#show all columns and rows\n",
    "pd.options.display.max_rows = None\n",
    "pd.options.display.max_columns = None"
   ]
  },
  {
   "cell_type": "code",
   "execution_count": 2,
   "metadata": {},
   "outputs": [],
   "source": [
    "from datetime import datetime, timedelta"
   ]
  },
  {
   "cell_type": "code",
   "execution_count": 3,
   "metadata": {},
   "outputs": [],
   "source": [
    "import matplotlib.pyplot as plt\n",
    "import seaborn as sns"
   ]
  },
  {
   "cell_type": "code",
   "execution_count": 4,
   "metadata": {},
   "outputs": [],
   "source": [
    "import requests\n",
    "import json\n",
    "#from pandas.io.json import json_normalize"
   ]
  },
  {
   "cell_type": "code",
   "execution_count": 5,
   "metadata": {},
   "outputs": [],
   "source": [
    "import joblib"
   ]
  },
  {
   "cell_type": "code",
   "execution_count": 6,
   "metadata": {},
   "outputs": [],
   "source": [
    "key = '68bd382ddb99350655bff0bbf00171ec' #get your own from https://darksky.net/dev"
   ]
  },
  {
   "cell_type": "markdown",
   "metadata": {},
   "source": [
    "# model import - choose your option"
   ]
  },
  {
   "cell_type": "code",
   "execution_count": 7,
   "metadata": {},
   "outputs": [],
   "source": [
    "# Niepodległości\n",
    "model_xgb = joblib.load(\"model/nie/model_xgb.pkl\")\n",
    "model_lgb = joblib.load(\"model/nie/model_lgb.pkl\")"
   ]
  },
  {
   "cell_type": "code",
   "execution_count": 31,
   "metadata": {},
   "outputs": [],
   "source": [
    "# Wokalna\n",
    "model_xgb = joblib.load(\"model/wok/model_xgb.pkl\")\n",
    "model_lgb = joblib.load(\"model/wok/model_lgb.pkl\")"
   ]
  },
  {
   "cell_type": "markdown",
   "metadata": {},
   "source": [
    "# data for forcast and chart"
   ]
  },
  {
   "cell_type": "markdown",
   "metadata": {},
   "source": [
    "### recent data for PM2.5"
   ]
  },
  {
   "cell_type": "code",
   "execution_count": 8,
   "metadata": {},
   "outputs": [],
   "source": [
    "# Niepodległości\n",
    "gios_now = json.loads(requests.get('http://api.gios.gov.pl/pjp-api/rest/data/getData/3585').text)"
   ]
  },
  {
   "cell_type": "code",
   "execution_count": 32,
   "metadata": {
    "scrolled": true
   },
   "outputs": [],
   "source": [
    "# Wokalna\n",
    "gios_now = json.loads(requests.get('http://api.gios.gov.pl/pjp-api/rest/data/getData/3731').text)"
   ]
  },
  {
   "cell_type": "code",
   "execution_count": 9,
   "metadata": {},
   "outputs": [
    {
     "data": {
      "text/html": [
       "<div>\n",
       "<style scoped>\n",
       "    .dataframe tbody tr th:only-of-type {\n",
       "        vertical-align: middle;\n",
       "    }\n",
       "\n",
       "    .dataframe tbody tr th {\n",
       "        vertical-align: top;\n",
       "    }\n",
       "\n",
       "    .dataframe thead th {\n",
       "        text-align: right;\n",
       "    }\n",
       "</style>\n",
       "<table border=\"1\" class=\"dataframe\">\n",
       "  <thead>\n",
       "    <tr style=\"text-align: right;\">\n",
       "      <th></th>\n",
       "      <th>date</th>\n",
       "      <th>value</th>\n",
       "    </tr>\n",
       "  </thead>\n",
       "  <tbody>\n",
       "    <tr>\n",
       "      <th>0</th>\n",
       "      <td>2020-02-18 17:00:00</td>\n",
       "      <td>9.63</td>\n",
       "    </tr>\n",
       "    <tr>\n",
       "      <th>1</th>\n",
       "      <td>2020-02-18 16:00:00</td>\n",
       "      <td>14.56</td>\n",
       "    </tr>\n",
       "    <tr>\n",
       "      <th>2</th>\n",
       "      <td>2020-02-18 15:00:00</td>\n",
       "      <td>15.53</td>\n",
       "    </tr>\n",
       "    <tr>\n",
       "      <th>3</th>\n",
       "      <td>2020-02-18 14:00:00</td>\n",
       "      <td>13.27</td>\n",
       "    </tr>\n",
       "    <tr>\n",
       "      <th>4</th>\n",
       "      <td>2020-02-18 13:00:00</td>\n",
       "      <td>12.22</td>\n",
       "    </tr>\n",
       "  </tbody>\n",
       "</table>\n",
       "</div>"
      ],
      "text/plain": [
       "                 date  value\n",
       "0 2020-02-18 17:00:00   9.63\n",
       "1 2020-02-18 16:00:00  14.56\n",
       "2 2020-02-18 15:00:00  15.53\n",
       "3 2020-02-18 14:00:00  13.27\n",
       "4 2020-02-18 13:00:00  12.22"
      ]
     },
     "execution_count": 9,
     "metadata": {},
     "output_type": "execute_result"
    }
   ],
   "source": [
    "gios_now = pd.DataFrame(gios_now['values']) \n",
    "gios_now['value'] = gios_now['value'].interpolate(limit_direction='both')\n",
    "gios_now['date'] = gios_now['date'].apply(lambda x: datetime.strptime(x, '%Y-%m-%d %H:%M:%S'))\n",
    "gios_now.head()"
   ]
  },
  {
   "cell_type": "code",
   "execution_count": 10,
   "metadata": {},
   "outputs": [
    {
     "data": {
      "text/plain": [
       "1581811200"
      ]
     },
     "execution_count": 10,
     "metadata": {},
     "output_type": "execute_result"
    }
   ],
   "source": [
    "#date to start a chart\n",
    "times = int(datetime.timestamp(min(gios_now['date'])))\n",
    "times"
   ]
  },
  {
   "cell_type": "markdown",
   "metadata": {},
   "source": [
    "### data from darksky"
   ]
  },
  {
   "cell_type": "code",
   "execution_count": 11,
   "metadata": {},
   "outputs": [],
   "source": [
    "dark_hour = []"
   ]
  },
  {
   "cell_type": "code",
   "execution_count": 12,
   "metadata": {},
   "outputs": [],
   "source": [
    "for i in range(5):\n",
    "    darksky = json.loads(requests.get('https://api.darksky.net/forecast/{}/52.2193,21.0047,{}'.format(key, times)).text)\n",
    "    dark_hour.extend(darksky['hourly']['data'])\n",
    "    times += 24*60*60"
   ]
  },
  {
   "cell_type": "code",
   "execution_count": 13,
   "metadata": {},
   "outputs": [
    {
     "data": {
      "text/html": [
       "<div>\n",
       "<style scoped>\n",
       "    .dataframe tbody tr th:only-of-type {\n",
       "        vertical-align: middle;\n",
       "    }\n",
       "\n",
       "    .dataframe tbody tr th {\n",
       "        vertical-align: top;\n",
       "    }\n",
       "\n",
       "    .dataframe thead th {\n",
       "        text-align: right;\n",
       "    }\n",
       "</style>\n",
       "<table border=\"1\" class=\"dataframe\">\n",
       "  <thead>\n",
       "    <tr style=\"text-align: right;\">\n",
       "      <th></th>\n",
       "      <th>apparentTemperature</th>\n",
       "      <th>cloudCover</th>\n",
       "      <th>dewPoint</th>\n",
       "      <th>humidity</th>\n",
       "      <th>icon</th>\n",
       "      <th>ozone</th>\n",
       "      <th>precipIntensity</th>\n",
       "      <th>precipProbability</th>\n",
       "      <th>precipType</th>\n",
       "      <th>pressure</th>\n",
       "      <th>summary</th>\n",
       "      <th>temperature</th>\n",
       "      <th>time</th>\n",
       "      <th>uvIndex</th>\n",
       "      <th>visibility</th>\n",
       "      <th>windBearing</th>\n",
       "      <th>windGust</th>\n",
       "      <th>windSpeed</th>\n",
       "    </tr>\n",
       "  </thead>\n",
       "  <tbody>\n",
       "    <tr>\n",
       "      <th>0</th>\n",
       "      <td>24.72</td>\n",
       "      <td>0.26</td>\n",
       "      <td>29.45</td>\n",
       "      <td>0.86</td>\n",
       "      <td>clear-night</td>\n",
       "      <td>335.4</td>\n",
       "      <td>0.0</td>\n",
       "      <td>0.0</td>\n",
       "      <td>NaN</td>\n",
       "      <td>1024.0</td>\n",
       "      <td>Clear</td>\n",
       "      <td>33.32</td>\n",
       "      <td>1581807600</td>\n",
       "      <td>0</td>\n",
       "      <td>10.0</td>\n",
       "      <td>180</td>\n",
       "      <td>28.32</td>\n",
       "      <td>11.36</td>\n",
       "    </tr>\n",
       "    <tr>\n",
       "      <th>1</th>\n",
       "      <td>25.86</td>\n",
       "      <td>0.21</td>\n",
       "      <td>29.05</td>\n",
       "      <td>0.82</td>\n",
       "      <td>clear-night</td>\n",
       "      <td>329.1</td>\n",
       "      <td>0.0</td>\n",
       "      <td>0.0</td>\n",
       "      <td>NaN</td>\n",
       "      <td>1023.7</td>\n",
       "      <td>Clear</td>\n",
       "      <td>34.06</td>\n",
       "      <td>1581811200</td>\n",
       "      <td>0</td>\n",
       "      <td>10.0</td>\n",
       "      <td>183</td>\n",
       "      <td>28.83</td>\n",
       "      <td>10.87</td>\n",
       "    </tr>\n",
       "    <tr>\n",
       "      <th>2</th>\n",
       "      <td>26.57</td>\n",
       "      <td>0.22</td>\n",
       "      <td>30.22</td>\n",
       "      <td>0.85</td>\n",
       "      <td>clear-night</td>\n",
       "      <td>327.3</td>\n",
       "      <td>0.0</td>\n",
       "      <td>0.0</td>\n",
       "      <td>NaN</td>\n",
       "      <td>1023.2</td>\n",
       "      <td>Clear</td>\n",
       "      <td>34.39</td>\n",
       "      <td>1581814800</td>\n",
       "      <td>0</td>\n",
       "      <td>10.0</td>\n",
       "      <td>182</td>\n",
       "      <td>29.50</td>\n",
       "      <td>10.23</td>\n",
       "    </tr>\n",
       "    <tr>\n",
       "      <th>3</th>\n",
       "      <td>26.76</td>\n",
       "      <td>0.27</td>\n",
       "      <td>29.93</td>\n",
       "      <td>0.82</td>\n",
       "      <td>clear-night</td>\n",
       "      <td>326.5</td>\n",
       "      <td>0.0</td>\n",
       "      <td>0.0</td>\n",
       "      <td>NaN</td>\n",
       "      <td>1022.5</td>\n",
       "      <td>Clear</td>\n",
       "      <td>34.80</td>\n",
       "      <td>1581818400</td>\n",
       "      <td>0</td>\n",
       "      <td>10.0</td>\n",
       "      <td>187</td>\n",
       "      <td>30.92</td>\n",
       "      <td>10.94</td>\n",
       "    </tr>\n",
       "    <tr>\n",
       "      <th>4</th>\n",
       "      <td>27.52</td>\n",
       "      <td>0.35</td>\n",
       "      <td>30.25</td>\n",
       "      <td>0.81</td>\n",
       "      <td>partly-cloudy-night</td>\n",
       "      <td>326.1</td>\n",
       "      <td>0.0</td>\n",
       "      <td>0.0</td>\n",
       "      <td>NaN</td>\n",
       "      <td>1021.9</td>\n",
       "      <td>Partly Cloudy</td>\n",
       "      <td>35.66</td>\n",
       "      <td>1581822000</td>\n",
       "      <td>0</td>\n",
       "      <td>10.0</td>\n",
       "      <td>191</td>\n",
       "      <td>32.17</td>\n",
       "      <td>11.67</td>\n",
       "    </tr>\n",
       "  </tbody>\n",
       "</table>\n",
       "</div>"
      ],
      "text/plain": [
       "   apparentTemperature  cloudCover  dewPoint  humidity                 icon  \\\n",
       "0                24.72        0.26     29.45      0.86          clear-night   \n",
       "1                25.86        0.21     29.05      0.82          clear-night   \n",
       "2                26.57        0.22     30.22      0.85          clear-night   \n",
       "3                26.76        0.27     29.93      0.82          clear-night   \n",
       "4                27.52        0.35     30.25      0.81  partly-cloudy-night   \n",
       "\n",
       "   ozone  precipIntensity  precipProbability precipType  pressure  \\\n",
       "0  335.4              0.0                0.0        NaN    1024.0   \n",
       "1  329.1              0.0                0.0        NaN    1023.7   \n",
       "2  327.3              0.0                0.0        NaN    1023.2   \n",
       "3  326.5              0.0                0.0        NaN    1022.5   \n",
       "4  326.1              0.0                0.0        NaN    1021.9   \n",
       "\n",
       "         summary  temperature        time  uvIndex  visibility  windBearing  \\\n",
       "0          Clear        33.32  1581807600        0        10.0          180   \n",
       "1          Clear        34.06  1581811200        0        10.0          183   \n",
       "2          Clear        34.39  1581814800        0        10.0          182   \n",
       "3          Clear        34.80  1581818400        0        10.0          187   \n",
       "4  Partly Cloudy        35.66  1581822000        0        10.0          191   \n",
       "\n",
       "   windGust  windSpeed  \n",
       "0     28.32      11.36  \n",
       "1     28.83      10.87  \n",
       "2     29.50      10.23  \n",
       "3     30.92      10.94  \n",
       "4     32.17      11.67  "
      ]
     },
     "execution_count": 13,
     "metadata": {},
     "output_type": "execute_result"
    }
   ],
   "source": [
    "table_hour = pd.DataFrame(dark_hour) \n",
    "table_hour.head()"
   ]
  },
  {
   "cell_type": "markdown",
   "metadata": {},
   "source": [
    "### checking if there are any missing variables"
   ]
  },
  {
   "cell_type": "code",
   "execution_count": 14,
   "metadata": {},
   "outputs": [
    {
     "data": {
      "text/plain": [
       "Index(['apparentTemperature', 'cloudCover', 'dewPoint', 'humidity', 'icon',\n",
       "       'ozone', 'precipIntensity', 'precipProbability', 'precipType',\n",
       "       'pressure', 'summary', 'temperature', 'time', 'uvIndex', 'visibility',\n",
       "       'windBearing', 'windGust', 'windSpeed'],\n",
       "      dtype='object')"
      ]
     },
     "execution_count": 14,
     "metadata": {},
     "output_type": "execute_result"
    }
   ],
   "source": [
    "table_hour.columns"
   ]
  },
  {
   "cell_type": "code",
   "execution_count": 20,
   "metadata": {},
   "outputs": [],
   "source": [
    "available_var = list(set(table_hour.columns) - set(['icon','ozone', 'summary', 'time', 'precipType']))\n",
    "missing_var = list(set(['apparentTemperature', 'cloudCover', 'dewPoint', 'humidity', \n",
    "         'precipAccumulation', 'precipIntensity', 'precipProbability',\n",
    "         'pressure', 'temperature',  'uvIndex',\n",
    "         'visibility', 'windBearing', 'windGust', 'windSpeed']) - set(available_var))"
   ]
  },
  {
   "cell_type": "code",
   "execution_count": 23,
   "metadata": {},
   "outputs": [],
   "source": [
    "if (len(missing_var)>0):\n",
    "    for var in missing_var:\n",
    "        table_hour[var] = 0"
   ]
  },
  {
   "cell_type": "markdown",
   "metadata": {},
   "source": [
    "### adding time variables"
   ]
  },
  {
   "cell_type": "code",
   "execution_count": 24,
   "metadata": {},
   "outputs": [],
   "source": [
    "table_hour['date'] = table_hour['time'].apply(lambda x: datetime.fromtimestamp(x))\n",
    "table_hour['year'] = table_hour['date'].apply(lambda x: x.year)\n",
    "table_hour['month'] = table_hour['date'].apply(lambda x: x.month)\n",
    "table_hour['day'] = table_hour['date'].apply(lambda x: x.day)\n",
    "table_hour['hour'] = table_hour['date'].apply(lambda x: x.hour)\n",
    "table_hour['day_of_week'] = table_hour['date'].apply(lambda x: x.isocalendar()[2])\n",
    "table_hour['no_of_week'] = table_hour['date'].apply(lambda x: x.isocalendar()[1])"
   ]
  },
  {
   "cell_type": "code",
   "execution_count": 25,
   "metadata": {},
   "outputs": [
    {
     "data": {
      "text/plain": [
       "Index(['apparentTemperature', 'cloudCover', 'dewPoint', 'humidity', 'icon',\n",
       "       'ozone', 'precipIntensity', 'precipProbability', 'precipType',\n",
       "       'pressure', 'summary', 'temperature', 'time', 'uvIndex', 'visibility',\n",
       "       'windBearing', 'windGust', 'windSpeed', 'precipAccumulation', 'date',\n",
       "       'year', 'month', 'day', 'hour', 'day_of_week', 'no_of_week'],\n",
       "      dtype='object')"
      ]
     },
     "execution_count": 25,
     "metadata": {},
     "output_type": "execute_result"
    }
   ],
   "source": [
    "table_hour.columns"
   ]
  },
  {
   "cell_type": "code",
   "execution_count": 26,
   "metadata": {},
   "outputs": [
    {
     "data": {
      "text/html": [
       "<div>\n",
       "<style scoped>\n",
       "    .dataframe tbody tr th:only-of-type {\n",
       "        vertical-align: middle;\n",
       "    }\n",
       "\n",
       "    .dataframe tbody tr th {\n",
       "        vertical-align: top;\n",
       "    }\n",
       "\n",
       "    .dataframe thead th {\n",
       "        text-align: right;\n",
       "    }\n",
       "</style>\n",
       "<table border=\"1\" class=\"dataframe\">\n",
       "  <thead>\n",
       "    <tr style=\"text-align: right;\">\n",
       "      <th></th>\n",
       "      <th>apparentTemperature</th>\n",
       "      <th>cloudCover</th>\n",
       "      <th>dewPoint</th>\n",
       "      <th>humidity</th>\n",
       "      <th>icon</th>\n",
       "      <th>ozone</th>\n",
       "      <th>precipIntensity</th>\n",
       "      <th>precipProbability</th>\n",
       "      <th>precipType</th>\n",
       "      <th>pressure</th>\n",
       "      <th>summary</th>\n",
       "      <th>temperature</th>\n",
       "      <th>time</th>\n",
       "      <th>uvIndex</th>\n",
       "      <th>visibility</th>\n",
       "      <th>windBearing</th>\n",
       "      <th>windGust</th>\n",
       "      <th>windSpeed</th>\n",
       "      <th>precipAccumulation</th>\n",
       "      <th>date</th>\n",
       "      <th>year</th>\n",
       "      <th>month</th>\n",
       "      <th>day</th>\n",
       "      <th>hour</th>\n",
       "      <th>day_of_week</th>\n",
       "      <th>no_of_week</th>\n",
       "    </tr>\n",
       "  </thead>\n",
       "  <tbody>\n",
       "    <tr>\n",
       "      <th>0</th>\n",
       "      <td>24.72</td>\n",
       "      <td>0.26</td>\n",
       "      <td>29.45</td>\n",
       "      <td>0.86</td>\n",
       "      <td>clear-night</td>\n",
       "      <td>335.4</td>\n",
       "      <td>0.0</td>\n",
       "      <td>0.0</td>\n",
       "      <td>NaN</td>\n",
       "      <td>1024.0</td>\n",
       "      <td>Clear</td>\n",
       "      <td>33.32</td>\n",
       "      <td>1581807600</td>\n",
       "      <td>0</td>\n",
       "      <td>10.0</td>\n",
       "      <td>180</td>\n",
       "      <td>28.32</td>\n",
       "      <td>11.36</td>\n",
       "      <td>0</td>\n",
       "      <td>2020-02-16 00:00:00</td>\n",
       "      <td>2020</td>\n",
       "      <td>2</td>\n",
       "      <td>16</td>\n",
       "      <td>0</td>\n",
       "      <td>7</td>\n",
       "      <td>7</td>\n",
       "    </tr>\n",
       "    <tr>\n",
       "      <th>1</th>\n",
       "      <td>25.86</td>\n",
       "      <td>0.21</td>\n",
       "      <td>29.05</td>\n",
       "      <td>0.82</td>\n",
       "      <td>clear-night</td>\n",
       "      <td>329.1</td>\n",
       "      <td>0.0</td>\n",
       "      <td>0.0</td>\n",
       "      <td>NaN</td>\n",
       "      <td>1023.7</td>\n",
       "      <td>Clear</td>\n",
       "      <td>34.06</td>\n",
       "      <td>1581811200</td>\n",
       "      <td>0</td>\n",
       "      <td>10.0</td>\n",
       "      <td>183</td>\n",
       "      <td>28.83</td>\n",
       "      <td>10.87</td>\n",
       "      <td>0</td>\n",
       "      <td>2020-02-16 01:00:00</td>\n",
       "      <td>2020</td>\n",
       "      <td>2</td>\n",
       "      <td>16</td>\n",
       "      <td>1</td>\n",
       "      <td>7</td>\n",
       "      <td>7</td>\n",
       "    </tr>\n",
       "    <tr>\n",
       "      <th>2</th>\n",
       "      <td>26.57</td>\n",
       "      <td>0.22</td>\n",
       "      <td>30.22</td>\n",
       "      <td>0.85</td>\n",
       "      <td>clear-night</td>\n",
       "      <td>327.3</td>\n",
       "      <td>0.0</td>\n",
       "      <td>0.0</td>\n",
       "      <td>NaN</td>\n",
       "      <td>1023.2</td>\n",
       "      <td>Clear</td>\n",
       "      <td>34.39</td>\n",
       "      <td>1581814800</td>\n",
       "      <td>0</td>\n",
       "      <td>10.0</td>\n",
       "      <td>182</td>\n",
       "      <td>29.50</td>\n",
       "      <td>10.23</td>\n",
       "      <td>0</td>\n",
       "      <td>2020-02-16 02:00:00</td>\n",
       "      <td>2020</td>\n",
       "      <td>2</td>\n",
       "      <td>16</td>\n",
       "      <td>2</td>\n",
       "      <td>7</td>\n",
       "      <td>7</td>\n",
       "    </tr>\n",
       "    <tr>\n",
       "      <th>3</th>\n",
       "      <td>26.76</td>\n",
       "      <td>0.27</td>\n",
       "      <td>29.93</td>\n",
       "      <td>0.82</td>\n",
       "      <td>clear-night</td>\n",
       "      <td>326.5</td>\n",
       "      <td>0.0</td>\n",
       "      <td>0.0</td>\n",
       "      <td>NaN</td>\n",
       "      <td>1022.5</td>\n",
       "      <td>Clear</td>\n",
       "      <td>34.80</td>\n",
       "      <td>1581818400</td>\n",
       "      <td>0</td>\n",
       "      <td>10.0</td>\n",
       "      <td>187</td>\n",
       "      <td>30.92</td>\n",
       "      <td>10.94</td>\n",
       "      <td>0</td>\n",
       "      <td>2020-02-16 03:00:00</td>\n",
       "      <td>2020</td>\n",
       "      <td>2</td>\n",
       "      <td>16</td>\n",
       "      <td>3</td>\n",
       "      <td>7</td>\n",
       "      <td>7</td>\n",
       "    </tr>\n",
       "    <tr>\n",
       "      <th>4</th>\n",
       "      <td>27.52</td>\n",
       "      <td>0.35</td>\n",
       "      <td>30.25</td>\n",
       "      <td>0.81</td>\n",
       "      <td>partly-cloudy-night</td>\n",
       "      <td>326.1</td>\n",
       "      <td>0.0</td>\n",
       "      <td>0.0</td>\n",
       "      <td>NaN</td>\n",
       "      <td>1021.9</td>\n",
       "      <td>Partly Cloudy</td>\n",
       "      <td>35.66</td>\n",
       "      <td>1581822000</td>\n",
       "      <td>0</td>\n",
       "      <td>10.0</td>\n",
       "      <td>191</td>\n",
       "      <td>32.17</td>\n",
       "      <td>11.67</td>\n",
       "      <td>0</td>\n",
       "      <td>2020-02-16 04:00:00</td>\n",
       "      <td>2020</td>\n",
       "      <td>2</td>\n",
       "      <td>16</td>\n",
       "      <td>4</td>\n",
       "      <td>7</td>\n",
       "      <td>7</td>\n",
       "    </tr>\n",
       "  </tbody>\n",
       "</table>\n",
       "</div>"
      ],
      "text/plain": [
       "   apparentTemperature  cloudCover  dewPoint  humidity                 icon  \\\n",
       "0                24.72        0.26     29.45      0.86          clear-night   \n",
       "1                25.86        0.21     29.05      0.82          clear-night   \n",
       "2                26.57        0.22     30.22      0.85          clear-night   \n",
       "3                26.76        0.27     29.93      0.82          clear-night   \n",
       "4                27.52        0.35     30.25      0.81  partly-cloudy-night   \n",
       "\n",
       "   ozone  precipIntensity  precipProbability precipType  pressure  \\\n",
       "0  335.4              0.0                0.0        NaN    1024.0   \n",
       "1  329.1              0.0                0.0        NaN    1023.7   \n",
       "2  327.3              0.0                0.0        NaN    1023.2   \n",
       "3  326.5              0.0                0.0        NaN    1022.5   \n",
       "4  326.1              0.0                0.0        NaN    1021.9   \n",
       "\n",
       "         summary  temperature        time  uvIndex  visibility  windBearing  \\\n",
       "0          Clear        33.32  1581807600        0        10.0          180   \n",
       "1          Clear        34.06  1581811200        0        10.0          183   \n",
       "2          Clear        34.39  1581814800        0        10.0          182   \n",
       "3          Clear        34.80  1581818400        0        10.0          187   \n",
       "4  Partly Cloudy        35.66  1581822000        0        10.0          191   \n",
       "\n",
       "   windGust  windSpeed  precipAccumulation                date  year  month  \\\n",
       "0     28.32      11.36                   0 2020-02-16 00:00:00  2020      2   \n",
       "1     28.83      10.87                   0 2020-02-16 01:00:00  2020      2   \n",
       "2     29.50      10.23                   0 2020-02-16 02:00:00  2020      2   \n",
       "3     30.92      10.94                   0 2020-02-16 03:00:00  2020      2   \n",
       "4     32.17      11.67                   0 2020-02-16 04:00:00  2020      2   \n",
       "\n",
       "   day  hour  day_of_week  no_of_week  \n",
       "0   16     0            7           7  \n",
       "1   16     1            7           7  \n",
       "2   16     2            7           7  \n",
       "3   16     3            7           7  \n",
       "4   16     4            7           7  "
      ]
     },
     "execution_count": 26,
     "metadata": {},
     "output_type": "execute_result"
    }
   ],
   "source": [
    "table_hour.head()"
   ]
  },
  {
   "cell_type": "markdown",
   "metadata": {},
   "source": [
    "### handling missing data"
   ]
  },
  {
   "cell_type": "code",
   "execution_count": 27,
   "metadata": {},
   "outputs": [],
   "source": [
    "# interpolate\n",
    "\n",
    "cols=[ 'apparentTemperature', 'cloudCover', 'dewPoint',\n",
    "       'humidity',  'precipType', 'pressure', 'temperature',\n",
    "       'time', 'uvIndex', 'visibility', 'windBearing',\n",
    "       'windSpeed']\n",
    "\n",
    "for col in cols:\n",
    "    table_hour[col] = table_hour[col].interpolate(limit_direction='both')"
   ]
  },
  {
   "cell_type": "code",
   "execution_count": 28,
   "metadata": {},
   "outputs": [],
   "source": [
    "# fill with 0\n",
    "\n",
    "cols=['precipAccumulation','precipIntensity','precipProbability']\n",
    "\n",
    "for col in cols:\n",
    "    table_hour[col] = table_hour[col].fillna(0)"
   ]
  },
  {
   "cell_type": "code",
   "execution_count": 29,
   "metadata": {},
   "outputs": [],
   "source": [
    "# value from another column\n",
    "\n",
    "table_hour['windGust'] = table_hour['windGust'].fillna(table_hour['windSpeed'])"
   ]
  },
  {
   "cell_type": "code",
   "execution_count": 30,
   "metadata": {},
   "outputs": [],
   "source": [
    "# information about winter break\n",
    "\n",
    "table_hour['winter_break'] = 0 \n",
    "mask = (table_hour['date'] >='2020-02-10') & (table_hour['date'] <='2020-02-23')\n",
    "table_hour['winter_break'][mask] = 1"
   ]
  },
  {
   "cell_type": "markdown",
   "metadata": {},
   "source": [
    "### prediction"
   ]
  },
  {
   "cell_type": "code",
   "execution_count": 31,
   "metadata": {},
   "outputs": [],
   "source": [
    "feats = ['apparentTemperature', 'cloudCover', 'dewPoint', 'humidity', \n",
    "         'precipAccumulation', 'precipIntensity', 'precipProbability',\n",
    "         'pressure', 'temperature',  'uvIndex',\n",
    "         'visibility', 'windBearing', 'windGust', 'windSpeed',\n",
    "         'year', 'month', 'day',  'hour', 'day_of_week', 'no_of_week', 'winter_break']"
   ]
  },
  {
   "cell_type": "code",
   "execution_count": 32,
   "metadata": {},
   "outputs": [
    {
     "data": {
      "text/plain": [
       "array([43.913292, 45.098904, 52.056934, 43.175888, 43.80663 , 39.498734,\n",
       "       40.724922, 37.01548 , 32.429424, 35.807297, 27.72272 , 27.790869,\n",
       "       27.009434, 27.3479  , 31.501934, 29.340399, 28.358366, 25.245892,\n",
       "       23.345104, 20.851452, 22.603994, 25.501642, 24.874445, 22.137661,\n",
       "       18.75534 , 17.233673, 18.36333 , 19.006319, 18.930443, 23.07757 ,\n",
       "       23.843693, 28.670948, 26.583065, 25.57244 , 22.22495 , 19.883724,\n",
       "       17.330194, 20.320143, 23.266512, 29.301594, 41.64321 , 40.38374 ,\n",
       "       40.89001 , 40.228607, 40.605804, 44.816113, 44.838394, 42.586918,\n",
       "       34.984154, 33.965405, 39.5834  , 30.38518 , 30.28922 , 33.080627,\n",
       "       33.150944, 22.408318, 17.314493, 17.110655, 19.490067, 18.203054,\n",
       "       18.214703, 17.197115, 18.25067 , 18.513165, 14.594639, 20.11207 ,\n",
       "       18.012936, 20.089125, 17.794647, 29.133303, 19.766932, 21.07856 ,\n",
       "       19.919022, 24.681389, 19.793488, 21.653553, 20.84047 , 21.589035,\n",
       "       25.187689, 32.012417, 32.273872, 31.683378, 30.574448, 29.866867,\n",
       "       30.320526, 30.881887, 31.451277, 32.52153 , 31.976969, 31.623924,\n",
       "       31.098513, 30.65758 , 36.165184, 22.12496 , 26.288853, 30.890472,\n",
       "       34.99408 , 16.883911, 26.930658, 15.545264, 15.945892, 15.280274,\n",
       "       17.208115, 18.838467, 14.149704, 32.459156, 20.574022, 21.113245,\n",
       "       24.189579, 23.78232 , 21.453749, 34.256763, 33.256508, 33.508114,\n",
       "       38.388767, 43.174477, 49.286655, 47.360886, 47.23327 , 43.68102 ],\n",
       "      dtype=float32)"
      ]
     },
     "execution_count": 32,
     "metadata": {},
     "output_type": "execute_result"
    }
   ],
   "source": [
    "prediction_xgb = np.exp(model_xgb.predict(table_hour[feats].values))\n",
    "prediction_xgb"
   ]
  },
  {
   "cell_type": "code",
   "execution_count": 33,
   "metadata": {},
   "outputs": [
    {
     "data": {
      "text/plain": [
       "array([34.14398436, 35.37918873, 39.35631787, 32.86554797, 29.62246666,\n",
       "       29.01130322, 28.28014308, 25.61788095, 23.30414069, 25.07046548,\n",
       "       26.51666347, 26.39434865, 26.77122967, 26.07706855, 27.05872477,\n",
       "       26.04728925, 25.92028972, 25.4576509 , 25.65257411, 25.95682397,\n",
       "       27.09947743, 27.87758991, 27.66575974, 27.92232092, 21.37075304,\n",
       "       20.48711374, 19.58270519, 19.48224709, 19.48224709, 19.06298473,\n",
       "       19.9285117 , 26.6599604 , 27.05571622, 24.7871691 , 25.23591711,\n",
       "       22.9824585 , 23.72773665, 26.48063262, 29.92622723, 33.19347041,\n",
       "       36.69966166, 39.76102371, 40.7120307 , 41.44279283, 42.06078665,\n",
       "       39.55979853, 40.42344975, 43.2970276 , 29.47405553, 33.55684306,\n",
       "       36.68872808, 32.54146113, 30.29911203, 29.60983101, 30.33444776,\n",
       "       24.61585285, 22.26785538, 18.7378272 , 19.12196101, 19.12196101,\n",
       "       18.85831457, 19.07637956, 19.3469036 , 16.64498351, 16.27134908,\n",
       "       19.51528863, 19.76956978, 24.77495848, 22.65944918, 30.36819249,\n",
       "       27.8015549 , 28.45343843, 27.62393742, 30.87695895, 28.69235978,\n",
       "       27.5236911 , 27.3685051 , 25.56387398, 28.43629251, 29.74653415,\n",
       "       28.6638359 , 28.75342759, 30.28814093, 30.28181292, 30.08486735,\n",
       "       29.96875062, 30.65945327, 31.72453275, 33.15450759, 32.75168386,\n",
       "       32.75168386, 31.57246015, 31.87949379, 24.03207843, 27.62133314,\n",
       "       22.74854147, 29.30528343, 21.03208569, 24.45668489, 14.48623335,\n",
       "       18.33987033, 18.30152673, 19.93400359, 21.02604746, 17.55242026,\n",
       "       31.00822544, 25.26678144, 26.70848398, 27.6046561 , 32.33280366,\n",
       "       29.25525797, 36.96907581, 39.25031873, 40.13868595, 41.98236077,\n",
       "       43.88382286, 45.73359677, 44.36330089, 42.96264702, 40.9539358 ])"
      ]
     },
     "execution_count": 33,
     "metadata": {},
     "output_type": "execute_result"
    }
   ],
   "source": [
    "prediction_lgb = np.exp(model_lgb.predict(table_hour[feats].values))\n",
    "prediction_lgb"
   ]
  },
  {
   "cell_type": "code",
   "execution_count": 34,
   "metadata": {},
   "outputs": [
    {
     "data": {
      "text/html": [
       "<div>\n",
       "<style scoped>\n",
       "    .dataframe tbody tr th:only-of-type {\n",
       "        vertical-align: middle;\n",
       "    }\n",
       "\n",
       "    .dataframe tbody tr th {\n",
       "        vertical-align: top;\n",
       "    }\n",
       "\n",
       "    .dataframe thead th {\n",
       "        text-align: right;\n",
       "    }\n",
       "</style>\n",
       "<table border=\"1\" class=\"dataframe\">\n",
       "  <thead>\n",
       "    <tr style=\"text-align: right;\">\n",
       "      <th></th>\n",
       "      <th>apparentTemperature</th>\n",
       "      <th>cloudCover</th>\n",
       "      <th>dewPoint</th>\n",
       "      <th>humidity</th>\n",
       "      <th>icon</th>\n",
       "      <th>ozone</th>\n",
       "      <th>precipIntensity</th>\n",
       "      <th>precipProbability</th>\n",
       "      <th>precipType</th>\n",
       "      <th>pressure</th>\n",
       "      <th>summary</th>\n",
       "      <th>temperature</th>\n",
       "      <th>time</th>\n",
       "      <th>uvIndex</th>\n",
       "      <th>visibility</th>\n",
       "      <th>windBearing</th>\n",
       "      <th>windGust</th>\n",
       "      <th>windSpeed</th>\n",
       "      <th>precipAccumulation</th>\n",
       "      <th>date</th>\n",
       "      <th>year</th>\n",
       "      <th>month</th>\n",
       "      <th>day</th>\n",
       "      <th>hour</th>\n",
       "      <th>day_of_week</th>\n",
       "      <th>no_of_week</th>\n",
       "      <th>winter_break</th>\n",
       "      <th>pred_xgb</th>\n",
       "      <th>pred_lgb</th>\n",
       "    </tr>\n",
       "  </thead>\n",
       "  <tbody>\n",
       "    <tr>\n",
       "      <th>0</th>\n",
       "      <td>24.72</td>\n",
       "      <td>0.26</td>\n",
       "      <td>29.45</td>\n",
       "      <td>0.86</td>\n",
       "      <td>clear-night</td>\n",
       "      <td>335.4</td>\n",
       "      <td>0.0</td>\n",
       "      <td>0.0</td>\n",
       "      <td>NaN</td>\n",
       "      <td>1024.0</td>\n",
       "      <td>Clear</td>\n",
       "      <td>33.32</td>\n",
       "      <td>1581807600</td>\n",
       "      <td>0</td>\n",
       "      <td>10.0</td>\n",
       "      <td>180</td>\n",
       "      <td>28.32</td>\n",
       "      <td>11.36</td>\n",
       "      <td>0</td>\n",
       "      <td>2020-02-16 00:00:00</td>\n",
       "      <td>2020</td>\n",
       "      <td>2</td>\n",
       "      <td>16</td>\n",
       "      <td>0</td>\n",
       "      <td>7</td>\n",
       "      <td>7</td>\n",
       "      <td>1</td>\n",
       "      <td>43.913292</td>\n",
       "      <td>34.143984</td>\n",
       "    </tr>\n",
       "    <tr>\n",
       "      <th>1</th>\n",
       "      <td>25.86</td>\n",
       "      <td>0.21</td>\n",
       "      <td>29.05</td>\n",
       "      <td>0.82</td>\n",
       "      <td>clear-night</td>\n",
       "      <td>329.1</td>\n",
       "      <td>0.0</td>\n",
       "      <td>0.0</td>\n",
       "      <td>NaN</td>\n",
       "      <td>1023.7</td>\n",
       "      <td>Clear</td>\n",
       "      <td>34.06</td>\n",
       "      <td>1581811200</td>\n",
       "      <td>0</td>\n",
       "      <td>10.0</td>\n",
       "      <td>183</td>\n",
       "      <td>28.83</td>\n",
       "      <td>10.87</td>\n",
       "      <td>0</td>\n",
       "      <td>2020-02-16 01:00:00</td>\n",
       "      <td>2020</td>\n",
       "      <td>2</td>\n",
       "      <td>16</td>\n",
       "      <td>1</td>\n",
       "      <td>7</td>\n",
       "      <td>7</td>\n",
       "      <td>1</td>\n",
       "      <td>45.098904</td>\n",
       "      <td>35.379189</td>\n",
       "    </tr>\n",
       "    <tr>\n",
       "      <th>2</th>\n",
       "      <td>26.57</td>\n",
       "      <td>0.22</td>\n",
       "      <td>30.22</td>\n",
       "      <td>0.85</td>\n",
       "      <td>clear-night</td>\n",
       "      <td>327.3</td>\n",
       "      <td>0.0</td>\n",
       "      <td>0.0</td>\n",
       "      <td>NaN</td>\n",
       "      <td>1023.2</td>\n",
       "      <td>Clear</td>\n",
       "      <td>34.39</td>\n",
       "      <td>1581814800</td>\n",
       "      <td>0</td>\n",
       "      <td>10.0</td>\n",
       "      <td>182</td>\n",
       "      <td>29.50</td>\n",
       "      <td>10.23</td>\n",
       "      <td>0</td>\n",
       "      <td>2020-02-16 02:00:00</td>\n",
       "      <td>2020</td>\n",
       "      <td>2</td>\n",
       "      <td>16</td>\n",
       "      <td>2</td>\n",
       "      <td>7</td>\n",
       "      <td>7</td>\n",
       "      <td>1</td>\n",
       "      <td>52.056934</td>\n",
       "      <td>39.356318</td>\n",
       "    </tr>\n",
       "    <tr>\n",
       "      <th>3</th>\n",
       "      <td>26.76</td>\n",
       "      <td>0.27</td>\n",
       "      <td>29.93</td>\n",
       "      <td>0.82</td>\n",
       "      <td>clear-night</td>\n",
       "      <td>326.5</td>\n",
       "      <td>0.0</td>\n",
       "      <td>0.0</td>\n",
       "      <td>NaN</td>\n",
       "      <td>1022.5</td>\n",
       "      <td>Clear</td>\n",
       "      <td>34.80</td>\n",
       "      <td>1581818400</td>\n",
       "      <td>0</td>\n",
       "      <td>10.0</td>\n",
       "      <td>187</td>\n",
       "      <td>30.92</td>\n",
       "      <td>10.94</td>\n",
       "      <td>0</td>\n",
       "      <td>2020-02-16 03:00:00</td>\n",
       "      <td>2020</td>\n",
       "      <td>2</td>\n",
       "      <td>16</td>\n",
       "      <td>3</td>\n",
       "      <td>7</td>\n",
       "      <td>7</td>\n",
       "      <td>1</td>\n",
       "      <td>43.175888</td>\n",
       "      <td>32.865548</td>\n",
       "    </tr>\n",
       "    <tr>\n",
       "      <th>4</th>\n",
       "      <td>27.52</td>\n",
       "      <td>0.35</td>\n",
       "      <td>30.25</td>\n",
       "      <td>0.81</td>\n",
       "      <td>partly-cloudy-night</td>\n",
       "      <td>326.1</td>\n",
       "      <td>0.0</td>\n",
       "      <td>0.0</td>\n",
       "      <td>NaN</td>\n",
       "      <td>1021.9</td>\n",
       "      <td>Partly Cloudy</td>\n",
       "      <td>35.66</td>\n",
       "      <td>1581822000</td>\n",
       "      <td>0</td>\n",
       "      <td>10.0</td>\n",
       "      <td>191</td>\n",
       "      <td>32.17</td>\n",
       "      <td>11.67</td>\n",
       "      <td>0</td>\n",
       "      <td>2020-02-16 04:00:00</td>\n",
       "      <td>2020</td>\n",
       "      <td>2</td>\n",
       "      <td>16</td>\n",
       "      <td>4</td>\n",
       "      <td>7</td>\n",
       "      <td>7</td>\n",
       "      <td>1</td>\n",
       "      <td>43.806629</td>\n",
       "      <td>29.622467</td>\n",
       "    </tr>\n",
       "  </tbody>\n",
       "</table>\n",
       "</div>"
      ],
      "text/plain": [
       "   apparentTemperature  cloudCover  dewPoint  humidity                 icon  \\\n",
       "0                24.72        0.26     29.45      0.86          clear-night   \n",
       "1                25.86        0.21     29.05      0.82          clear-night   \n",
       "2                26.57        0.22     30.22      0.85          clear-night   \n",
       "3                26.76        0.27     29.93      0.82          clear-night   \n",
       "4                27.52        0.35     30.25      0.81  partly-cloudy-night   \n",
       "\n",
       "   ozone  precipIntensity  precipProbability precipType  pressure  \\\n",
       "0  335.4              0.0                0.0        NaN    1024.0   \n",
       "1  329.1              0.0                0.0        NaN    1023.7   \n",
       "2  327.3              0.0                0.0        NaN    1023.2   \n",
       "3  326.5              0.0                0.0        NaN    1022.5   \n",
       "4  326.1              0.0                0.0        NaN    1021.9   \n",
       "\n",
       "         summary  temperature        time  uvIndex  visibility  windBearing  \\\n",
       "0          Clear        33.32  1581807600        0        10.0          180   \n",
       "1          Clear        34.06  1581811200        0        10.0          183   \n",
       "2          Clear        34.39  1581814800        0        10.0          182   \n",
       "3          Clear        34.80  1581818400        0        10.0          187   \n",
       "4  Partly Cloudy        35.66  1581822000        0        10.0          191   \n",
       "\n",
       "   windGust  windSpeed  precipAccumulation                date  year  month  \\\n",
       "0     28.32      11.36                   0 2020-02-16 00:00:00  2020      2   \n",
       "1     28.83      10.87                   0 2020-02-16 01:00:00  2020      2   \n",
       "2     29.50      10.23                   0 2020-02-16 02:00:00  2020      2   \n",
       "3     30.92      10.94                   0 2020-02-16 03:00:00  2020      2   \n",
       "4     32.17      11.67                   0 2020-02-16 04:00:00  2020      2   \n",
       "\n",
       "   day  hour  day_of_week  no_of_week  winter_break   pred_xgb   pred_lgb  \n",
       "0   16     0            7           7             1  43.913292  34.143984  \n",
       "1   16     1            7           7             1  45.098904  35.379189  \n",
       "2   16     2            7           7             1  52.056934  39.356318  \n",
       "3   16     3            7           7             1  43.175888  32.865548  \n",
       "4   16     4            7           7             1  43.806629  29.622467  "
      ]
     },
     "execution_count": 34,
     "metadata": {},
     "output_type": "execute_result"
    }
   ],
   "source": [
    "table_hour['pred_xgb'] = prediction_xgb\n",
    "table_hour['pred_lgb'] = prediction_lgb\n",
    "table_hour.head()"
   ]
  },
  {
   "cell_type": "code",
   "execution_count": 35,
   "metadata": {},
   "outputs": [],
   "source": [
    "chart_data = table_hour[['date','pred_xgb','pred_lgb']]"
   ]
  },
  {
   "cell_type": "markdown",
   "metadata": {},
   "source": [
    "# chart"
   ]
  },
  {
   "cell_type": "code",
   "execution_count": 36,
   "metadata": {},
   "outputs": [
    {
     "data": {
      "image/png": "[encoded data removed]",
      "text/plain": [
       "<Figure size 1440x720 with 1 Axes>"
      ]
     },
     "metadata": {
      "needs_background": "light"
     },
     "output_type": "display_data"
    }
   ],
   "source": [
    "plt.figure(figsize=(20,10))\n",
    "plt.plot(chart_data['date'], chart_data['pred_xgb'], color='red') #forcast\n",
    "plt.plot(chart_data['date'], chart_data['pred_lgb'], color='orange') #forcast\n",
    "plt.plot(gios_now['date'], gios_now['value'], color='blue', linewidth = 4) #actual\n",
    "\n",
    "plt.title('PM25_Niepodległości')\n",
    "plt.show()"
   ]
  },
  {
   "cell_type": "code",
   "execution_count": 39,
   "metadata": {
    "scrolled": false
   },
   "outputs": [
    {
     "data": {
      "image/png": "[encoded data removed]",
      "text/plain": [
       "<Figure size 1440x720 with 1 Axes>"
      ]
     },
     "metadata": {
      "needs_background": "light"
     },
     "output_type": "display_data"
    }
   ],
   "source": [
    "plt.figure(figsize=(20,10))\n",
    "plt.plot(chart_data['date'], chart_data['pred_xgb'], color='red') #forcast\n",
    "plt.plot(chart_data['date'], chart_data['pred_lgb'], color='orange') #forcast\n",
    "plt.plot(gios_now['date'], gios_now['value'], color='blue', linewidth = 4) #actual\n",
    "\n",
    "plt.title('PM25_Wokalna')\n",
    "plt.show()"
   ]
  },
  {
   "cell_type": "code",
   "execution_count": null,
   "metadata": {},
   "outputs": [],
   "source": []
  }
 ],
 "metadata": {
  "kernelspec": {
   "display_name": "Python 3",
   "language": "python",
   "name": "python3"
  },
  "language_info": {
   "codemirror_mode": {
    "name": "ipython",
    "version": 3
   },
   "file_extension": ".py",
   "mimetype": "text/x-python",
   "name": "python",
   "nbconvert_exporter": "python",
   "pygments_lexer": "ipython3",
   "version": "3.7.3"
  }
 },
 "nbformat": 4,
 "nbformat_minor": 2
}
